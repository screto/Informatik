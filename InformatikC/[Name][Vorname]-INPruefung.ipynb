{
 "cells": [
  {
   "cell_type": "markdown",
   "metadata": {},
   "source": [
    "Lösen sie die Prüfungsaufgaben direkt in die unteren Codezeilen.\n",
    "\n",
    "Laden Sie sich das Jupyternotebook am Schluss herunter und geben Sie es via Teams am. Ersetzen Sie bitte vor der Abgabe im Dateinamen die Einträge **[Name]** und  **[Vorname]** durch Ihren eigenen Namen."
   ]
  },
  {
   "cell_type": "markdown",
   "metadata": {},
   "source": [
    "# Aufgabe 1"
   ]
  },
  {
   "cell_type": "code",
   "execution_count": null,
   "metadata": {},
   "outputs": [],
   "source": [
    "from gymmu.images import *\n",
    "\n",
    "url = 'https://www.gym-muttenz.ch/fileadmin/user_upload/_headerbilder/6.jpg'\n",
    "data, width = load_image_data(url)\n",
    "grey_data = []\n",
    "\n",
    "for i in range(0, len(data), 3):\n",
    "    grey_data.append(1/3 * data[i] + 1/3 * data[i+1] + 1/3 * data[i+2])\n",
    "    \n",
    "## implement your code HERE\n",
    "\n",
    "write_image_grey(grey_data, width)"
   ]
  },
  {
   "cell_type": "markdown",
   "metadata": {},
   "source": [
    "# Aufgabe 2"
   ]
  },
  {
   "cell_type": "code",
   "execution_count": null,
   "metadata": {},
   "outputs": [],
   "source": [
    "%%svg\n",
    "<svg width=\"200\" height=\"200\"> \n",
    "    ## implement your code HERE\n",
    "\n",
    "</svg>"
   ]
  },
  {
   "cell_type": "markdown",
   "metadata": {},
   "source": [
    "# Aufgabe 3"
   ]
  },
  {
   "cell_type": "code",
   "execution_count": null,
   "metadata": {},
   "outputs": [],
   "source": [
    "plaintext = input('Gib ein Wort ein: ')\n",
    "shift = int(input('Verschiebung: '))\n",
    "res = 'Verschlüsselt: '\n",
    "zres = ''\n",
    "\n",
    "for i in plaintext:\n",
    "    if ord(i)>=97 and ord(i)<=122:\n",
    "        en = ord(i) - 97\n",
    "        en = (en + shift)%26\n",
    "        en = en + 97\n",
    "    elif ord(i)>=65 and ord(i)<=90:\n",
    "        en = ord(i) - 65\n",
    "        en = (en + shift)%26\n",
    "        en = en + 65\n",
    "    else :\n",
    "        en = ord(i)\n",
    "    res = res + chr(en)\n",
    "\n",
    "print(res)\n"
   ]
  },
  {
   "cell_type": "markdown",
   "metadata": {},
   "source": [
    "# Aufgabe 4"
   ]
  },
  {
   "cell_type": "code",
   "execution_count": null,
   "metadata": {},
   "outputs": [],
   "source": [
    "plaintext = input('Gib ein Wort ein: ')\n",
    "shift = int(input('Verschiebung: '))\n",
    "res = 'Verschlüsselt: '\n",
    "\n",
    "for i in plaintext:\n",
    "    if ord(i)>=97 and ord(i)<=122:\n",
    "        en = ord(i) - 97\n",
    "        en = (en + shift)%26\n",
    "        en = en + 97\n",
    "    elif ord(i)>=65 and ord(i)<=90:\n",
    "        en = ord(i) - 65\n",
    "        en = (en + shift)%26\n",
    "        en = en + 65\n",
    "    else :\n",
    "        en = ord(i)\n",
    "    res = res + chr(en)\n",
    "    \n",
    "print(res)"
   ]
  },
  {
   "cell_type": "markdown",
   "metadata": {},
   "source": []
  },
  {
   "cell_type": "markdown",
   "metadata": {},
   "source": [
    "## b)"
   ]
  },
  {
   "cell_type": "markdown",
   "metadata": {},
   "source": []
  },
  {
   "cell_type": "markdown",
   "metadata": {},
   "source": [
    "# Aufgabe 5\n",
    "Geben Sie im unteren Feld an, wie folgender Text aus Sicht des Computer (hexadezimal) ausschaut:\n",
    "\n",
    "*2. Informatikpruefung!*"
   ]
  },
  {
   "cell_type": "markdown",
   "metadata": {},
   "source": []
  }
 ],
 "metadata": {
  "interpreter": {
   "hash": "949777d72b0d2535278d3dc13498b2535136f6dfe0678499012e853ee9abcab1"
  },
  "kernelspec": {
   "display_name": "Python 3.10.0 64-bit",
   "language": "python",
   "name": "python3"
  },
  "language_info": {
   "codemirror_mode": {
    "name": "ipython",
    "version": 3
   },
   "file_extension": ".py",
   "mimetype": "text/x-python",
   "name": "python",
   "nbconvert_exporter": "python",
   "pygments_lexer": "ipython3",
   "version": "3.10.0"
  },
  "orig_nbformat": 4
 },
 "nbformat": 4,
 "nbformat_minor": 2
}
