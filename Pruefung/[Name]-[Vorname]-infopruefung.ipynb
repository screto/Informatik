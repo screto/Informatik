{
 "cells": [
  {
   "cell_type": "markdown",
   "metadata": {},
   "source": [
    "Lösen sie die Prüfungsaufgaben direkt in die unteren Codezeilen.\n",
    "\n",
    "Laden Sie sich das Jupyternotebook am Schluss herunter und geben Sie es via Teams ab. Ersetzen Sie bitte vor der Abgabe im Dateinamen die Einträge **[Namen]** und  **[Vornamen]** durch Ihren eigenen Namen."
   ]
  },
  {
   "cell_type": "markdown",
   "metadata": {},
   "source": [
    "# Aufgabe 1"
   ]
  },
  {
   "cell_type": "code",
   "execution_count": null,
   "metadata": {},
   "outputs": [],
   "source": [
    "text = \"Es ist die Hardware, die einen Computer schnell macht; und die Software, die ihn wieder verlangsamt.\"\n",
    "\n",
    "#Here comes your Code\n",
    "\n",
    "print(enc_text)"
   ]
  },
  {
   "cell_type": "markdown",
   "metadata": {},
   "source": [
    "# Aufgabe 2"
   ]
  },
  {
   "cell_type": "markdown",
   "metadata": {},
   "source": []
  },
  {
   "cell_type": "code",
   "execution_count": null,
   "metadata": {},
   "outputs": [],
   "source": [
    "from bs4 import BeautifulSoup\n",
    "import requests\n",
    "from random import choice\n",
    "\n",
    "url = \"https://www.vita34.ch/namenslisten/vornamen-fuer-maedchen/\"\n",
    "\n",
    "response = requests.get(url)\n",
    "\n",
    "soup = BeautifulSoup(response.content, \"html.parser\")\n",
    "\n",
    "girls = [item.string for item in soup.find_all(\"li\")]\n",
    "\n",
    "print(f\"Found a total of {len(girls)} girl names.\")\n",
    "print(girls)"
   ]
  }
 ],
 "metadata": {
  "interpreter": {
   "hash": "949777d72b0d2535278d3dc13498b2535136f6dfe0678499012e853ee9abcab1"
  },
  "kernelspec": {
   "display_name": "Python 3.10.0 64-bit",
   "language": "python",
   "name": "python3"
  },
  "language_info": {
   "codemirror_mode": {
    "name": "ipython",
    "version": 3
   },
   "file_extension": ".py",
   "mimetype": "text/x-python",
   "name": "python",
   "nbconvert_exporter": "python",
   "pygments_lexer": "ipython3",
   "version": "3.10.0"
  },
  "orig_nbformat": 4
 },
 "nbformat": 4,
 "nbformat_minor": 2
}
